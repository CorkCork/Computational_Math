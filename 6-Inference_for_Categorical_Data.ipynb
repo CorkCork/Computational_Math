{
 "cells": [
  {
   "cell_type": "markdown",
   "metadata": {},
   "source": [
    "# Inference for categorical data"
   ]
  },
  {
   "cell_type": "markdown",
   "metadata": {},
   "source": [
    "To see the entire document please use this link:\n",
    "\n",
    "https://colab.research.google.com/github/CorkCork/Computational_Math/blob/master/6-Inference_for_Categorical_Data.ipynb"
   ]
  },
  {
   "cell_type": "markdown",
   "metadata": {},
   "source": [
    "In August of 2012, news outlets ranging from the [Washington Post](https://www.washingtonpost.com/national/on-faith/poll-shows-atheism-on-the-rise-in-the-us/2012/08/13/90020fd6-e57d-11e1-9739-eef99c5fb285_story.html) to the [Huffington Post](https://www.huffpost.com/entry/atheism-rise-religiosity-decline-in-america_n_1777031) ran a story about the rise of atheism in America. The source for the story was a poll that asked people, \"Irrespective of whether you attend a place of worship or not, would you say you are a religious person, not a religious person or a convinced atheist?\" This type of question, which asks people to classify themselves in one way or another, is common in polling and generates categorical data. In this lab we take a look at the atheism survey and explore what’s at play when making inference about population proportions using categorical data."
   ]
  },
  {
   "cell_type": "markdown",
   "metadata": {},
   "source": [
    "## The survey"
   ]
  },
  {
   "cell_type": "markdown",
   "metadata": {},
   "source": [
    "To access the press release for the poll, conducted by WIN-Gallup International: [GLOBAL INDEX OF\n",
    "RELIGION AND ATHEISM ](https://sidmennt.is/wp-content/uploads/Gallup-International-um-tr%C3%BA-og-tr%C3%BAleysi-2012.pdf)\n",
    "\n",
    "Take a moment to review the report then address the following questions."
   ]
  },
  {
   "cell_type": "markdown",
   "metadata": {},
   "source": [
    "<div class = 'exercise'>\n",
    "<h4>Exercise 1</h4>\n",
    "In the first paragraph, several key findings are reported. Do these percentages appear to be <i>sample statistics</i> (derived from the data sample) or <i>population parameters</i>?\n",
    "</div>"
   ]
  },
  {
   "cell_type": "markdown",
   "metadata": {},
   "source": [
    "Yes"
   ]
  },
  {
   "cell_type": "markdown",
   "metadata": {},
   "source": [
    "<div class = \"exercise\">\n",
    "<h4>Exercise 2</h4>\n",
    "The title of the report is \"Global Index of Religiosity and Atheism\". To generalize the report's findings to the global human population, what must we assume about the sampling method? Does that seem like a reasonable assumption?</div>"
   ]
  },
  {
   "cell_type": "markdown",
   "metadata": {},
   "source": [
    "We must assume that the observations are independent and random, and the sample size is large enough (<10% of the population). It is a reasonable assumption."
   ]
  },
  {
   "cell_type": "markdown",
   "metadata": {},
   "source": [
    "## The data"
   ]
  },
  {
   "cell_type": "markdown",
   "metadata": {},
   "source": [
    "Turn your attention to Table 6 (pages 14 and 15), which reports the sample size and response percentages for all 57 countries. While this is a useful format to summarize the data, we will base our analysis on the original data set of individual responses to the survey."
   ]
  },
  {
   "cell_type": "code",
   "execution_count": 1,
   "metadata": {},
   "outputs": [],
   "source": [
    "# for Mac OS users only!\n",
    "# if you run into any SSL certification issues, \n",
    "# you may need to run the following command for a Mac OS installation.\n",
    "# $/Applications/Python 3.x/Install Certificates.command\n",
    "# if this does not fix the issue, run this command instead.\n",
    "import os, ssl\n",
    "if (not os.environ.get('PYTHONHTTPSVERIFY', '') and\n",
    "    getattr(ssl, '_create_unverified_context', None)): \n",
    "    ssl._create_default_https_context = ssl._create_unverified_context\n",
    "    \n",
    "import pandas as pd\n",
    "import io\n",
    "import requests\n",
    "# how to read a csv file from a github account\n",
    "df_url = 'https://raw.githubusercontent.com/vaksakalli/stats_tutorials/master/atheism.csv'\n",
    "url_content = requests.get(df_url).content\n",
    "# print(url_content)\n",
    "atheism = pd.read_csv(io.StringIO(url_content.decode('utf-8')))"
   ]
  },
  {
   "cell_type": "markdown",
   "metadata": {},
   "source": [
    "<div class = 'exercise'>\n",
    "<h4>Exercise 3</h4>\n",
    "    What does each row of Table 6 correspond to? What does each row of <code>atheism</code> correspond to?\n",
    "</div>"
   ]
  },
  {
   "cell_type": "markdown",
   "metadata": {},
   "source": [
    "Sample size and per country percentage of religious, not religious, convinced atheist and don't know/no responses for the sample.\n",
    "<div>\n",
    "<code>Atheism</code> corresponds to individual responses in a given country based on whether the person who is being surveyed is identified as atheist or non-atheist.  "
   ]
  },
  {
   "cell_type": "markdown",
   "metadata": {},
   "source": [
    "To investigate the link between these two ways of organizing this data, take a look at the estimated proportion of atheists in the United States. Towards the bottom of Table 6, we see that this is 5%. We should be able to come to the same number using the `atheism` data."
   ]
  },
  {
   "cell_type": "markdown",
   "metadata": {},
   "source": [
    "<div class = 'exercise'>\n",
    "<h4>Exercise 4</h4>\n",
    "    Using the command below, create a new dataframe called <code>us12</code> that contains only the rows in <code>atheism</code> associated with respondents to the 2012 survey from the United States. Next, calculate the proportion of atheist responses. Does it agree with the percentage in Table 6? If not, why?\n",
    "</div>"
   ]
  },
  {
   "cell_type": "code",
   "execution_count": 2,
   "metadata": {},
   "outputs": [],
   "source": [
    "us12 = atheism[(atheism.nationality == 'United States') & (atheism.year == 2012)]"
   ]
  },
  {
   "cell_type": "code",
   "execution_count": 3,
   "metadata": {},
   "outputs": [
    {
     "data": {
      "text/html": [
       "<div>\n",
       "<style scoped>\n",
       "    .dataframe tbody tr th:only-of-type {\n",
       "        vertical-align: middle;\n",
       "    }\n",
       "\n",
       "    .dataframe tbody tr th {\n",
       "        vertical-align: top;\n",
       "    }\n",
       "\n",
       "    .dataframe thead th {\n",
       "        text-align: right;\n",
       "    }\n",
       "</style>\n",
       "<table border=\"1\" class=\"dataframe\">\n",
       "  <thead>\n",
       "    <tr style=\"text-align: right;\">\n",
       "      <th></th>\n",
       "      <th>nationality</th>\n",
       "      <th>response</th>\n",
       "      <th>year</th>\n",
       "    </tr>\n",
       "  </thead>\n",
       "  <tbody>\n",
       "    <tr>\n",
       "      <th>49925</th>\n",
       "      <td>United States</td>\n",
       "      <td>non-atheist</td>\n",
       "      <td>2012</td>\n",
       "    </tr>\n",
       "    <tr>\n",
       "      <th>49926</th>\n",
       "      <td>United States</td>\n",
       "      <td>non-atheist</td>\n",
       "      <td>2012</td>\n",
       "    </tr>\n",
       "    <tr>\n",
       "      <th>49927</th>\n",
       "      <td>United States</td>\n",
       "      <td>non-atheist</td>\n",
       "      <td>2012</td>\n",
       "    </tr>\n",
       "    <tr>\n",
       "      <th>49928</th>\n",
       "      <td>United States</td>\n",
       "      <td>non-atheist</td>\n",
       "      <td>2012</td>\n",
       "    </tr>\n",
       "    <tr>\n",
       "      <th>49929</th>\n",
       "      <td>United States</td>\n",
       "      <td>non-atheist</td>\n",
       "      <td>2012</td>\n",
       "    </tr>\n",
       "  </tbody>\n",
       "</table>\n",
       "</div>"
      ],
      "text/plain": [
       "         nationality     response  year\n",
       "49925  United States  non-atheist  2012\n",
       "49926  United States  non-atheist  2012\n",
       "49927  United States  non-atheist  2012\n",
       "49928  United States  non-atheist  2012\n",
       "49929  United States  non-atheist  2012"
      ]
     },
     "execution_count": 3,
     "metadata": {},
     "output_type": "execute_result"
    }
   ],
   "source": [
    "us12.head()"
   ]
  },
  {
   "cell_type": "code",
   "execution_count": 4,
   "metadata": {},
   "outputs": [
    {
     "data": {
      "text/plain": [
       "0.0499001996007984"
      ]
     },
     "execution_count": 4,
     "metadata": {},
     "output_type": "execute_result"
    }
   ],
   "source": [
    "atheist = us12['response'] == 'atheist'\n",
    "\n",
    "sum(atheist)/len(us12)\n",
    "\n",
    "#We can also do sum(us12.response != \"atheist\") ---952   \n",
    "# sum(us12.response == \"atheist\") --- 50\n",
    "# 50/1002 and get the same result."
   ]
  },
  {
   "cell_type": "markdown",
   "metadata": {},
   "source": [
    "Yes, it agrees with the 5% in Table 6 when we round the above number."
   ]
  },
  {
   "cell_type": "markdown",
   "metadata": {},
   "source": [
    "## Inference on proportions"
   ]
  },
  {
   "cell_type": "markdown",
   "metadata": {},
   "source": [
    "As was hinted at in Exercise 1, Table 6 provides statistics, that is, calculations made from the sample of 51,927 people. What we'd like, though, is insight into the population parameters. You answer the question, \"What proportion of people in your sample reported being atheists?\" with a statistic; while the question \"What proportion of people on earth would report being atheists\" is answered with an estimate of the parameter.\n",
    "\n",
    "The inferential tools for estimating population proportion are analogous to those used for means in the last chapter: the confidence interval and the hypothesis test."
   ]
  },
  {
   "cell_type": "markdown",
   "metadata": {},
   "source": [
    "<div class = 'exercise'>\n",
    "<h4>Exercise 5</h4>\n",
    "Write out the conditions for inference to construct a 95% confidence interval for the proportion of atheists in the United States in 2012. Are you confident all conditions are met?</div>"
   ]
  },
  {
   "cell_type": "markdown",
   "metadata": {},
   "source": [
    "1- Observations in the sample are independent and random. I can assume those due to it being a survey and due to the sample size, which should be less than 10% of the U.S. population in this case.\n",
    "<div>\n",
    "2- The success-failure condition is also met. "
   ]
  },
  {
   "cell_type": "code",
   "execution_count": 5,
   "metadata": {},
   "outputs": [],
   "source": [
    "from scipy.stats import norm\n",
    "import numpy as np \n",
    "\n",
    "def atheist_CI(subsetatheist, CI=0.95):\n",
    "    z = norm.ppf((1-(1-CI)/2))\n",
    "    prbs = subsetatheist.response.value_counts(normalize=True)\n",
    "    se = np.sqrt(prbs.prod()/len(us12.index))\n",
    "    ci = np.array([-1,1]) * z * se + prbs[\"atheist\"]\n",
    "    print(\"Our {:.0%} CI: ({:.4f}, {:.4f})\".format(CI, *ci))\n",
    "    return"
   ]
  },
  {
   "cell_type": "code",
   "execution_count": 6,
   "metadata": {},
   "outputs": [
    {
     "name": "stdout",
     "output_type": "stream",
     "text": [
      "Our 95% CI: (0.0364, 0.0634)\n"
     ]
    }
   ],
   "source": [
    "atheist_CI(us12)"
   ]
  },
  {
   "cell_type": "markdown",
   "metadata": {},
   "source": [
    "If the conditions for inference are reasonable, we can either calculate the standard error and construct the interval by hand, or we can use [`scipy.stats`](https://docs.scipy.org/doc/scipy/reference/stats.html), a Python library of useful statistical functions offered by `SciPy`."
   ]
  },
  {
   "cell_type": "code",
   "execution_count": 7,
   "metadata": {},
   "outputs": [
    {
     "name": "stdout",
     "output_type": "stream",
     "text": [
      "Number of successes (atheist) = 50.0\n",
      "Number of failures (non-atheist) = 952.0\n",
      "Standard error = 0.006878629122390021\n",
      "95% confidence interval = (0.0364183342579056, 0.0633820649436912)\n"
     ]
    }
   ],
   "source": [
    "conf_lvl = 0.95\n",
    "z_value = norm.ppf((1-(1-conf_lvl)/2))  # the Z value for the specified confidence level\n",
    "prbs = us12.response.value_counts(normalize = True)  # the probabilities for the response of atheist and non-atheist\n",
    "se = np.sqrt(prbs.prod()/len(us12))  # the standard error\n",
    "\n",
    "# construct a 95% confidence interval for the proportion of atheists in the United States in 2012\n",
    "ci1 = prbs['atheist'] - z_value * se\n",
    "ci2 = prbs['atheist'] + z_value * se\n",
    "\n",
    "# print the results\n",
    "print(f'Number of successes (atheist) = {len(us12)*prbs[1]}')\n",
    "print(f'Number of failures (non-atheist) = {len(us12)*prbs[0]}')\n",
    "print(f'Standard error = {se}')\n",
    "print(f'{int(conf_lvl*100)}% confidence interval = {ci1, ci2}')"
   ]
  },
  {
   "cell_type": "markdown",
   "metadata": {},
   "source": [
    "Although formal confidence intervals and hypothesis tests don't show up in the report, suggestions of inference appear at the bottom of page 6: \"In general, the error margin for surveys of this kind is ± 3-5% at 95% confidence\"."
   ]
  },
  {
   "cell_type": "markdown",
   "metadata": {},
   "source": [
    "<div class = 'exercise'>\n",
    "<h4>Exercise 6</h4>\n",
    "Based on the output, what is the margin of error for the estimate of the proportion of atheists in US in 2012?\n",
    "</div>"
   ]
  },
  {
   "cell_type": "code",
   "execution_count": 8,
   "metadata": {},
   "outputs": [
    {
     "data": {
      "text/plain": [
       "0.013524"
      ]
     },
     "execution_count": 8,
     "metadata": {},
     "output_type": "execute_result"
    }
   ],
   "source": [
    "0.0069 * 1.96"
   ]
  },
  {
   "cell_type": "markdown",
   "metadata": {},
   "source": [
    "The margin of error for the estimate of the proportion of atheists in US in 2012 is 1.4%."
   ]
  },
  {
   "cell_type": "markdown",
   "metadata": {},
   "source": [
    "<div class = 'exercise'>\n",
    "<h4>Exercise 7</h4>\n",
    "Calculate confidence intervals for the proportion of atheists in 2012 in two other countries of your choice, and report the associated margins of error. Be sure to note whether the conditions for inference are met. It may be helpful to create new data sets for each of the two countries first, and then use these data sets to construct the confidence intervals.\n",
    "</div>"
   ]
  },
  {
   "cell_type": "code",
   "execution_count": 9,
   "metadata": {},
   "outputs": [
    {
     "data": {
      "text/html": [
       "<div>\n",
       "<style scoped>\n",
       "    .dataframe tbody tr th:only-of-type {\n",
       "        vertical-align: middle;\n",
       "    }\n",
       "\n",
       "    .dataframe tbody tr th {\n",
       "        vertical-align: top;\n",
       "    }\n",
       "\n",
       "    .dataframe thead th {\n",
       "        text-align: right;\n",
       "    }\n",
       "</style>\n",
       "<table border=\"1\" class=\"dataframe\">\n",
       "  <thead>\n",
       "    <tr style=\"text-align: right;\">\n",
       "      <th></th>\n",
       "      <th>nationality</th>\n",
       "      <th>response</th>\n",
       "      <th>year</th>\n",
       "    </tr>\n",
       "  </thead>\n",
       "  <tbody>\n",
       "    <tr>\n",
       "      <th>47880</th>\n",
       "      <td>Turkey</td>\n",
       "      <td>non-atheist</td>\n",
       "      <td>2012</td>\n",
       "    </tr>\n",
       "    <tr>\n",
       "      <th>47881</th>\n",
       "      <td>Turkey</td>\n",
       "      <td>non-atheist</td>\n",
       "      <td>2012</td>\n",
       "    </tr>\n",
       "    <tr>\n",
       "      <th>47882</th>\n",
       "      <td>Turkey</td>\n",
       "      <td>non-atheist</td>\n",
       "      <td>2012</td>\n",
       "    </tr>\n",
       "    <tr>\n",
       "      <th>47883</th>\n",
       "      <td>Turkey</td>\n",
       "      <td>non-atheist</td>\n",
       "      <td>2012</td>\n",
       "    </tr>\n",
       "    <tr>\n",
       "      <th>47884</th>\n",
       "      <td>Turkey</td>\n",
       "      <td>non-atheist</td>\n",
       "      <td>2012</td>\n",
       "    </tr>\n",
       "  </tbody>\n",
       "</table>\n",
       "</div>"
      ],
      "text/plain": [
       "      nationality     response  year\n",
       "47880      Turkey  non-atheist  2012\n",
       "47881      Turkey  non-atheist  2012\n",
       "47882      Turkey  non-atheist  2012\n",
       "47883      Turkey  non-atheist  2012\n",
       "47884      Turkey  non-atheist  2012"
      ]
     },
     "execution_count": 9,
     "metadata": {},
     "output_type": "execute_result"
    }
   ],
   "source": [
    "turkey = atheism[(atheism.nationality == 'Turkey') & (atheism.year == 2012)]\n",
    "turkey.head()"
   ]
  },
  {
   "cell_type": "code",
   "execution_count": 10,
   "metadata": {},
   "outputs": [
    {
     "name": "stdout",
     "output_type": "stream",
     "text": [
      "Number of successes (atheist) = 21.0\n",
      "Number of failures (non-atheist) = 1011.0\n",
      "Standard error = 0.004460378020902818\n",
      "95% confidence interval = (0.011606656930898759, 0.029091017487705893)\n"
     ]
    }
   ],
   "source": [
    "conf_lvl = 0.95\n",
    "z_value = norm.ppf((1-(1-conf_lvl)/2))  \n",
    "prbs = turkey.response.value_counts(normalize = True)  \n",
    "se = np.sqrt(prbs.prod()/len(us12))  \n",
    "\n",
    "ci1 = prbs['atheist'] - z_value * se\n",
    "ci2 = prbs['atheist'] + z_value * se\n",
    "\n",
    "print(f'Number of successes (atheist) = {len(turkey)*prbs[1]}')\n",
    "print(f'Number of failures (non-atheist) = {len(turkey)*prbs[0]}')\n",
    "print(f'Standard error = {se}')\n",
    "print(f'{int(conf_lvl*100)}% confidence interval = {ci1, ci2}')"
   ]
  },
  {
   "cell_type": "code",
   "execution_count": 11,
   "metadata": {},
   "outputs": [
    {
     "data": {
      "text/plain": [
       "0.008624"
      ]
     },
     "execution_count": 11,
     "metadata": {},
     "output_type": "execute_result"
    }
   ],
   "source": [
    "0.0044 * 1.96"
   ]
  },
  {
   "cell_type": "markdown",
   "metadata": {},
   "source": [
    "ME for Turkey is 0.008624"
   ]
  },
  {
   "cell_type": "code",
   "execution_count": 12,
   "metadata": {},
   "outputs": [
    {
     "name": "stdout",
     "output_type": "stream",
     "text": [
      "Number of successes (atheist) = 100.0\n",
      "Number of failures (non-atheist) = 910.0\n",
      "Standard error = 0.009435511789541077\n",
      "95% confidence interval = (0.08051663770689543, 0.1175031642733026)\n"
     ]
    }
   ],
   "source": [
    "ireland = atheism[(atheism.nationality == 'Ireland') & (atheism.year == 2012)]\n",
    "ireland.head()\n",
    "\n",
    "conf_lvl = 0.95\n",
    "z_value = norm.ppf((1-(1-conf_lvl)/2))  \n",
    "prbs = ireland.response.value_counts(normalize = True)  \n",
    "se = np.sqrt(prbs.prod()/len(us12))  \n",
    "\n",
    "ci1 = prbs['atheist'] - z_value * se\n",
    "ci2 = prbs['atheist'] + z_value * se\n",
    "\n",
    "print(f'Number of successes (atheist) = {len(ireland)*prbs[1]}')\n",
    "print(f'Number of failures (non-atheist) = {len(ireland)*prbs[0]}')\n",
    "print(f'Standard error = {se}')\n",
    "print(f'{int(conf_lvl*100)}% confidence interval = {ci1, ci2}')"
   ]
  },
  {
   "cell_type": "code",
   "execution_count": 13,
   "metadata": {},
   "outputs": [
    {
     "data": {
      "text/plain": [
       "0.018424"
      ]
     },
     "execution_count": 13,
     "metadata": {},
     "output_type": "execute_result"
    }
   ],
   "source": [
    "0.0094 * 1.96"
   ]
  },
  {
   "cell_type": "markdown",
   "metadata": {},
   "source": [
    "ME for Ireland is 0.018424"
   ]
  },
  {
   "cell_type": "markdown",
   "metadata": {},
   "source": [
    "For both the conditions for inference are met. \n",
    "<div>\n",
    "1- Observations in the samples are independent and random. I can assume those due to them being surveys and due to the sample sizes, which should be less than 10% of the given populations in the above cases.\n",
    "<div>\n",
    "2- The success-failure conditions are also met."
   ]
  },
  {
   "cell_type": "markdown",
   "metadata": {},
   "source": [
    "## How does the proportion affect the margin of error?"
   ]
  },
  {
   "cell_type": "markdown",
   "metadata": {},
   "source": [
    "Imagine you've set out to survey 1000 people on two questions: are you female? and are you left-handed? Since both of these sample proportions were calculated from the same sample size, they should have the same margin of error, right? Wrong! While the margin of error does change with sample size, it is also affected by the proportion.\n",
    "\n",
    "Think back to the formula for the standard error: ${SE}$ = $\\sqrt{p(1−p)/n}$. This is then used in the formula for the margin of error for a 95% confidence interval: ${ME}$ = ${1.96}$ x ${SE}$ = ${1.96}$ x $\\sqrt{p(1−p)/n}$. Since the population proportion ${p}$ is in this ME formula, it should make sense that the margin of error is in some way dependent on the population proportion. We can visualize this relationship by creating a plot of ${ME}$ vs. ${p}$.\n",
    "\n",
    "The first step is to define an array `p` that is a sequence from 0 to 1 with each number separated by 0.01. We can then create a array of the margin of error (`me`) associated with each of these values of `p` using the familiar approximate formula (${ME}$ = ${2}$×${SE}$). Lastly, we plot the two vectors against each other to reveal their relationship."
   ]
  },
  {
   "cell_type": "code",
   "execution_count": 14,
   "metadata": {},
   "outputs": [
    {
     "data": {
      "image/png": "[encoded data removed]",
      "text/plain": [
       "<Figure size 720x360 with 1 Axes>"
      ]
     },
     "metadata": {
      "image/png": {
       "height": 318,
       "width": 624
      }
     },
     "output_type": "display_data"
    }
   ],
   "source": [
    "import numpy as np\n",
    "n = 1000\n",
    "p = np.arange(0, 1, 0.01)\n",
    "me = 2 * np.sqrt(p * (1 - p)/n)\n",
    "\n",
    "import matplotlib.pyplot as plt\n",
    "%matplotlib inline \n",
    "%config InlineBackend.figure_format = 'retina'\n",
    "plt.style.use('ggplot')\n",
    "plt.rcParams['figure.figsize'] = (10,5)\n",
    "plt.plot(p, me)\n",
    "plt.xlabel('Population Proportion')\n",
    "plt.ylabel('Margin of Error')\n",
    "plt.show();"
   ]
  },
  {
   "cell_type": "markdown",
   "metadata": {},
   "source": [
    "## Success-failure condition"
   ]
  },
  {
   "cell_type": "markdown",
   "metadata": {},
   "source": [
    "The textbook emphasizes that you must always check conditions before making inference. For inference on proportions, the sample proportion can be assumed to be nearly normal if it is based upon a random sample of independent observations and if both ${np}$ ≥ ${10}$ and ${n}$(${1 - p}$) ≥ ${10}$. This rule of thumb is easy enough to follow, but it makes one wonder: what’s so special about the number 10?\n",
    "\n",
    "The short answer is: nothing. You could argue that we would be fine with 9 or that we really should be using 11. What is the \"best\" value for such a rule of thumb is, at least to some degree, arbitrary. However, when ${np}$ and ${n}$(${1 − np}$) reaches 10 the sampling distribution is sufficiently normal to use confidence intervals and hypothesis tests that are based on that approximation.\n",
    "\n",
    "We can investigate the interplay between ${n}$ and ${p}$ and the shape of the sampling distribution by using simulations. To start off, we simulate the process of drawing 5000 samples of size 1040 from a population with a true atheist proportion of 0.1. For each of the 5000 samples we compute ${\\hat{p}}$ and then plot a histogram to visualize their distribution."
   ]
  },
  {
   "cell_type": "code",
   "execution_count": 15,
   "metadata": {},
   "outputs": [
    {
     "data": {
      "image/png": "[encoded data removed]",
      "text/plain": [
       "<Figure size 432x288 with 1 Axes>"
      ]
     },
     "metadata": {
      "image/png": {
       "height": 281,
       "width": 404
      },
      "needs_background": "light"
     },
     "output_type": "display_data"
    }
   ],
   "source": [
    "p = 0.1\n",
    "n = 1040\n",
    "p_hats = np.zeros(5000)\n",
    "\n",
    "for i in range(5000):\n",
    "    samp = np.random.choice(['atheist', 'non_atheist'], size = n, replace = True, p = [p, 1-p])\n",
    "    p_hats[i] = sum(samp == 'atheist')/n\n",
    "\n",
    "plt.hist(p_hats)\n",
    "plt.xlabel('p_hats')\n",
    "plt.ylabel('Frequency')\n",
    "plt.title('p = 0.1, n = 1040')\n",
    "plt.show();"
   ]
  },
  {
   "cell_type": "markdown",
   "metadata": {},
   "source": [
    "These commands build up the sampling distribution of ${\\hat{p}}$ using the familiar `for` loop. You can read the sampling procedure for the first line of code inside the `for` loop as, \"take a sample of size ${n}$ with replacement from the choices of atheist and non-atheist with probabilities  ${p}$  and  ${1 - p}$ , respectively.\" The second line in the loop says, \"calculate the proportion of atheists in this sample and record this value.\" The loop allows us to repeat this process 5,000 times to build a good representation of the sampling distribution."
   ]
  },
  {
   "cell_type": "markdown",
   "metadata": {},
   "source": [
    "<div class = 'exercise'>\n",
    "<h4>Exercise 9</h4>\n",
    "Describe the sampling distribution of sample proportions at  ${n = 1040}$ and  ${p = 0.1}$. Be sure to note the center, spread, and shape.<br><i>Hint</i>: Remember that Python has functions such as <code>mean</code> to calculate summary statistics.\n",
    "</div>"
   ]
  },
  {
   "cell_type": "code",
   "execution_count": 16,
   "metadata": {},
   "outputs": [
    {
     "data": {
      "text/plain": [
       "0.0998226923076923"
      ]
     },
     "execution_count": 16,
     "metadata": {},
     "output_type": "execute_result"
    }
   ],
   "source": [
    "p_hats.mean()"
   ]
  },
  {
   "cell_type": "code",
   "execution_count": 17,
   "metadata": {},
   "outputs": [
    {
     "data": {
      "text/plain": [
       "0.00936084220121119"
      ]
     },
     "execution_count": 17,
     "metadata": {},
     "output_type": "execute_result"
    }
   ],
   "source": [
    "p_hats.std()"
   ]
  },
  {
   "cell_type": "code",
   "execution_count": 18,
   "metadata": {},
   "outputs": [
    {
     "data": {
      "text/plain": [
       "DescribeResult(nobs=5000, minmax=(0.06346153846153846, 0.1375), mean=0.0998226923076923, variance=8.764289529503535e-05, skewness=0.10123844541308624, kurtosis=0.08576691100390832)"
      ]
     },
     "execution_count": 18,
     "metadata": {},
     "output_type": "execute_result"
    }
   ],
   "source": [
    "import scipy.stats as stats\n",
    "stats.describe(p_hats)"
   ]
  },
  {
   "cell_type": "markdown",
   "metadata": {},
   "source": [
    "It is a normal distribution centered around 0.1 and has a standard deviation around 0.01. There is no noticable skew."
   ]
  },
  {
   "cell_type": "markdown",
   "metadata": {},
   "source": [
    "<div class = 'exercise'>\n",
    "<h4>Exercise 10</h4>\n",
    "Repeat the above simulation three more times but with modified sample sizes and proportions: for ${n = 400}$ and ${p = 0.1}$, ${n = 1040}$ and ${p = 0.02}$, and ${n = 400}$ and ${p = 0.02}$. Plot all four histograms together using <code>subplot</code>. Describe the three new sampling distributions. Based on these limited plots, how does ${n}$ appear to affect the distribution of ${\\hat{p}}$? How does ${p}$ affect the sampling distribution?\n",
    "</div>"
   ]
  },
  {
   "cell_type": "code",
   "execution_count": 19,
   "metadata": {},
   "outputs": [
    {
     "data": {
      "image/png": "[encoded data removed]",
      "text/plain": [
       "<Figure size 432x288 with 1 Axes>"
      ]
     },
     "metadata": {
      "image/png": {
       "height": 281,
       "width": 397
      },
      "needs_background": "light"
     },
     "output_type": "display_data"
    }
   ],
   "source": [
    "p = 0.1\n",
    "n = 400\n",
    "p_hats = np.zeros(5000)\n",
    "\n",
    "for i in range(5000):\n",
    "    samp = np.random.choice(['atheist', 'non_atheist'], size = n, replace = True, p = [p, 1-p])\n",
    "    p_hats[i] = sum(samp == 'atheist')/n\n",
    "\n",
    "plt.hist(p_hats)\n",
    "plt.xlabel('p_hats')\n",
    "plt.ylabel('Frequency')\n",
    "plt.title('p = 0.1, n = 400')\n",
    "plt.show();"
   ]
  },
  {
   "cell_type": "code",
   "execution_count": 20,
   "metadata": {},
   "outputs": [
    {
     "data": {
      "image/png": "[encoded data removed]",
      "text/plain": [
       "<Figure size 432x288 with 1 Axes>"
      ]
     },
     "metadata": {
      "image/png": {
       "height": 281,
       "width": 397
      },
      "needs_background": "light"
     },
     "output_type": "display_data"
    }
   ],
   "source": [
    "p = 0.02\n",
    "n = 1040\n",
    "p_hats = np.zeros(5000)\n",
    "\n",
    "for i in range(5000):\n",
    "    samp = np.random.choice(['atheist', 'non_atheist'], size = n, replace = True, p = [p, 1-p])\n",
    "    p_hats[i] = sum(samp == 'atheist')/n\n",
    "\n",
    "plt.hist(p_hats)\n",
    "plt.xlabel('p_hats')\n",
    "plt.ylabel('Frequency')\n",
    "plt.title('p = 0.02, n = 1040')\n",
    "plt.show();"
   ]
  },
  {
   "cell_type": "code",
   "execution_count": 21,
   "metadata": {},
   "outputs": [
    {
     "data": {
      "image/png": "[encoded data removed]",
      "text/plain": [
       "<Figure size 432x288 with 1 Axes>"
      ]
     },
     "metadata": {
      "image/png": {
       "height": 281,
       "width": 397
      },
      "needs_background": "light"
     },
     "output_type": "display_data"
    }
   ],
   "source": [
    "p = 0.02\n",
    "n = 400\n",
    "p_hats = np.zeros(5000)\n",
    "\n",
    "for i in range(5000):\n",
    "    samp = np.random.choice(['atheist', 'non_atheist'], size = n, replace = True, p = [p, 1-p])\n",
    "    p_hats[i] = sum(samp == 'atheist')/n\n",
    "\n",
    "plt.hist(p_hats)\n",
    "plt.xlabel('p_hats')\n",
    "plt.ylabel('Frequency')\n",
    "plt.title('p = 0.02, n = 400')\n",
    "plt.show();"
   ]
  },
  {
   "cell_type": "markdown",
   "metadata": {},
   "source": [
    "The larger the sample size (n), the smaller the spread. As the sample size gets bigger, we see a more clear normal distribution. Smaller spread means smaller margin of error. Meanwhile, the larger the p, the smaller the spread hence larger margin of error. There is a center shift with larger p. With smaller sample size the distribution is centered around p."
   ]
  },
  {
   "cell_type": "markdown",
   "metadata": {},
   "source": [
    "<div class = 'exercise'>\n",
    "<h4>Exercise11</h4>\n",
    "If you refer to Table 6, you'll find that Australia has a sample proportion of 0.1 on a sample size of 1040, and that Ecuador has a sample proportion of 0.02 on 400 subjects. Let's suppose for this exercise that these point estimates are actually the truth. Then given the shape of their respective sampling distributions, do you think it is sensible to proceed with inference and report margin of errors, as the reports does?\n",
    "</div>"
   ]
  },
  {
   "cell_type": "markdown",
   "metadata": {},
   "source": [
    "Let's check the success-failure condition."
   ]
  },
  {
   "cell_type": "code",
   "execution_count": 22,
   "metadata": {},
   "outputs": [
    {
     "data": {
      "text/plain": [
       "(True, True)"
      ]
     },
     "execution_count": 22,
     "metadata": {},
     "output_type": "execute_result"
    }
   ],
   "source": [
    "#Australia\n",
    "n_aus = 1040\n",
    "p_aus = 0.1\n",
    "\n",
    "cond_aus = (n_aus * p_aus >= 10, n_aus * (1 - p_aus) >= 10)\n",
    "cond_aus"
   ]
  },
  {
   "cell_type": "code",
   "execution_count": 23,
   "metadata": {},
   "outputs": [
    {
     "data": {
      "text/plain": [
       "(False, True)"
      ]
     },
     "execution_count": 23,
     "metadata": {},
     "output_type": "execute_result"
    }
   ],
   "source": [
    "#Ecuador\n",
    "n_ecu = 400\n",
    "p_ecu = 0.02\n",
    "\n",
    "cond_ecu = (n_ecu * p_ecu >= 10, n_ecu * (1 - p_ecu) >= 10)\n",
    "cond_ecu"
   ]
  },
  {
   "cell_type": "markdown",
   "metadata": {},
   "source": [
    "We can't report margin of errors for Ecuador because it doesn't meet the success-failure condition. The distribution is far from normal to make inferences. We can proceed with inference and report margin of error for Australia."
   ]
  },
  {
   "cell_type": "markdown",
   "metadata": {},
   "source": [
    "---\n",
    "## On Your Own\n",
    "\n",
    "The question of atheism was asked by WIN-Gallup International in a similar survey that was conducted in 2005. (We assume here that sample sizes have remained the same.) Table 4 on page 12 of the report summarizes survey results from 2005 and 2012 for 39 countries."
   ]
  },
  {
   "cell_type": "markdown",
   "metadata": {},
   "source": [
    "1- Answer the following two questions. As always, write out the hypotheses for any tests you conduct and outline the status of the conditions for inference."
   ]
  },
  {
   "cell_type": "markdown",
   "metadata": {},
   "source": [
    "a) Is there convincing evidence that Spain has seen a change in its atheism index between 2005 and 2012?<br>\n",
    "        <i>Hint</i>: Create a new data set for respondents from Spain. Form confidence intervals for the true proportion of athiests in both years, and determine whether they overlap.</li><br>"
   ]
  },
  {
   "cell_type": "markdown",
   "metadata": {},
   "source": [
    "H0: There is no difference in the proportion of atheists between the years 2005 and 2012 in Spain.\n",
    "<div>\n",
    "HA: Tthere is a difference in the proportion of atheists between the years 2005 and 2012 in Spain.\n",
    "<div> \n",
    "Conditions:\n",
    "<div> \n",
    "- Observations are independent and random.\n",
    "    <div> \n",
    "- The sample size is large enough.\n",
    "        <div> \n",
    "- Success/failure condition met for both samples."
   ]
  },
  {
   "cell_type": "code",
   "execution_count": 24,
   "metadata": {},
   "outputs": [
    {
     "name": "stdout",
     "output_type": "stream",
     "text": [
      "Number of successes (atheist) = 102.99999999999999\n",
      "Number of failures (non-atheist) = 1042.0\n",
      "Standard error = 0.00903884885676943\n",
      "95% confidence interval = (0.07224051365676012, 0.10767215009869838)\n"
     ]
    }
   ],
   "source": [
    "spain2012 = atheism[(atheism.nationality == 'Spain') & (atheism.year == 2012)]\n",
    "spain2012.head()\n",
    "\n",
    "conf_lvl = 0.95\n",
    "z_value = norm.ppf((1-(1-conf_lvl)/2))  \n",
    "prbs = spain2012.response.value_counts(normalize = True)  \n",
    "se = np.sqrt(prbs.prod()/len(us12))  \n",
    "\n",
    "ci1 = prbs['atheist'] - z_value * se\n",
    "ci2 = prbs['atheist'] + z_value * se\n",
    "\n",
    "print(f'Number of successes (atheist) = {len(spain2012)*prbs[1]}')\n",
    "print(f'Number of failures (non-atheist) = {len(spain2012)*prbs[0]}')\n",
    "print(f'Standard error = {se}')\n",
    "print(f'{int(conf_lvl*100)}% confidence interval = {ci1, ci2}')"
   ]
  },
  {
   "cell_type": "code",
   "execution_count": 25,
   "metadata": {},
   "outputs": [
    {
     "name": "stdout",
     "output_type": "stream",
     "text": [
      "Number of successes (atheist) = 115.0\n",
      "Number of failures (non-atheist) = 1031.0\n",
      "Standard error = 0.009492044693202738\n",
      "95% confidence interval = (0.08174497440129413, 0.11895310587793798)\n"
     ]
    }
   ],
   "source": [
    "spain2005 = atheism[(atheism.nationality == 'Spain') & (atheism.year == 2005)]\n",
    "spain2005.head()\n",
    "\n",
    "conf_lvl = 0.95\n",
    "z_value = norm.ppf((1-(1-conf_lvl)/2))  \n",
    "prbs = spain2005.response.value_counts(normalize = True)  \n",
    "se = np.sqrt(prbs.prod()/len(us12))  \n",
    "\n",
    "ci1 = prbs['atheist'] - z_value * se\n",
    "ci2 = prbs['atheist'] + z_value * se\n",
    "\n",
    "print(f'Number of successes (atheist) = {len(spain2005)*prbs[1]}')\n",
    "print(f'Number of failures (non-atheist) = {len(spain2005)*prbs[0]}')\n",
    "print(f'Standard error = {se}')\n",
    "print(f'{int(conf_lvl*100)}% confidence interval = {ci1, ci2}')"
   ]
  },
  {
   "cell_type": "markdown",
   "metadata": {},
   "source": [
    "The confidence interval for Spain2005 is (0.082 , 0.119) and for Spain2012 (0.072, 0.108). They overlap, which shows that there is no convincing evidence that Spain has seen a change in its atheism index."
   ]
  },
  {
   "cell_type": "markdown",
   "metadata": {},
   "source": [
    "b) Is there convincing evidence that the United States has seen a change in its atheism index between 2005 and 2012?</li>"
   ]
  },
  {
   "cell_type": "markdown",
   "metadata": {},
   "source": [
    "H0: There is no difference in the proportion of atheists between the years 2005 and 2012 in the United States.\n",
    "<div>\n",
    "HA: Tthere is a difference in the proportion of atheists between the years 2005 and 2012 in the United States.\n",
    "<div> \n",
    "Conditions:\n",
    "<div> \n",
    "- Observations are independent and random.\n",
    "    <div> \n",
    "- The sample size is large enough.\n",
    "        <div> \n",
    "- Success/failure condition met for both samples."
   ]
  },
  {
   "cell_type": "code",
   "execution_count": 26,
   "metadata": {},
   "outputs": [
    {
     "name": "stdout",
     "output_type": "stream",
     "text": [
      "Number of successes (atheist) = 50.0\n",
      "Number of failures (non-atheist) = 952.0\n",
      "Standard error = 0.006878629122390021\n",
      "95% confidence interval = (0.0364183342579056, 0.0633820649436912)\n"
     ]
    }
   ],
   "source": [
    "us2012 = atheism[(atheism.nationality == 'United States') & (atheism.year == 2012)]\n",
    "us2012.head()\n",
    "\n",
    "conf_lvl = 0.95\n",
    "z_value = norm.ppf((1-(1-conf_lvl)/2))  \n",
    "prbs = us2012.response.value_counts(normalize = True)  \n",
    "se = np.sqrt(prbs.prod()/len(us12))  \n",
    "\n",
    "ci1 = prbs['atheist'] - z_value * se\n",
    "ci2 = prbs['atheist'] + z_value * se\n",
    "\n",
    "print(f'Number of successes (atheist) = {len(us2012)*prbs[1]}')\n",
    "print(f'Number of failures (non-atheist) = {len(us2012)*prbs[0]}')\n",
    "print(f'Standard error = {se}')\n",
    "print(f'{int(conf_lvl*100)}% confidence interval = {ci1, ci2}')"
   ]
  },
  {
   "cell_type": "code",
   "execution_count": 27,
   "metadata": {},
   "outputs": [
    {
     "name": "stdout",
     "output_type": "stream",
     "text": [
      "Number of successes (atheist) = 10.0\n",
      "Number of failures (non-atheist) = 992.0\n",
      "Standard error = 0.0031401779071852207\n",
      "95% confidence interval = (0.0038254043170282874, 0.016134675523291075)\n"
     ]
    }
   ],
   "source": [
    "us2005 = atheism[(atheism.nationality == 'United States') & (atheism.year == 2005)]\n",
    "us2005.head()\n",
    "\n",
    "conf_lvl = 0.95\n",
    "z_value = norm.ppf((1-(1-conf_lvl)/2))  \n",
    "prbs = us2005.response.value_counts(normalize = True)  \n",
    "se = np.sqrt(prbs.prod()/len(us12))  \n",
    "\n",
    "ci1 = prbs['atheist'] - z_value * se\n",
    "ci2 = prbs['atheist'] + z_value * se\n",
    "\n",
    "print(f'Number of successes (atheist) = {len(us2005)*prbs[1]}')\n",
    "print(f'Number of failures (non-atheist) = {len(us2005)*prbs[0]}')\n",
    "print(f'Standard error = {se}')\n",
    "print(f'{int(conf_lvl*100)}% confidence interval = {ci1, ci2}')"
   ]
  },
  {
   "cell_type": "markdown",
   "metadata": {},
   "source": [
    "The confidence interval for US 2005 is (0.004, 0.016) and for US 2012 (0.036, 0.063). They do not overlap, which shows that there is convincing evidence that US has seen a change in its atheism index."
   ]
  },
  {
   "cell_type": "markdown",
   "metadata": {},
   "source": [
    "2- If in fact there has been no change in the atheism index in the countries listed in Table 4, in how many of those countries would you expect to detect a change (at a significance level of 0.05) simply by chance?\n",
    "Hint: Look in the textbook index under Type 1 error."
   ]
  },
  {
   "cell_type": "markdown",
   "metadata": {},
   "source": [
    "A type 1 error is rejecting the null hypothesis when null is true. We shouldn't incorectly reject null more than 5% of the time (0.05 significance level). There are 39 countries in Table 4. We can multiply that number with 0.05 to see how many of those countries we would expect to detect a change simply by chance. "
   ]
  },
  {
   "cell_type": "code",
   "execution_count": 28,
   "metadata": {},
   "outputs": [
    {
     "data": {
      "text/plain": [
       "1.9500000000000002"
      ]
     },
     "execution_count": 28,
     "metadata": {},
     "output_type": "execute_result"
    }
   ],
   "source": [
    "0.05*39"
   ]
  },
  {
   "cell_type": "markdown",
   "metadata": {},
   "source": [
    "The result is 1.95, which means 2 countries."
   ]
  },
  {
   "cell_type": "markdown",
   "metadata": {},
   "source": [
    "3- Suppose you’re hired by the local government to estimate the proportion of residents that attend a religious service on a weekly basis. According to the guidelines, the estimate must have a margin of error no greater than 1% with 95% confidence. You have no idea what to expect for  𝑝 . How many people would you have to sample to ensure that you are within the guidelines?\n",
    "Hint: Refer to your plot of the relationship between  𝑝  and margin of error. Do not use the data set to answer this question."
   ]
  },
  {
   "cell_type": "code",
   "execution_count": 29,
   "metadata": {},
   "outputs": [
    {
     "data": {
      "text/plain": [
       "9603.999999999998"
      ]
     },
     "execution_count": 29,
     "metadata": {},
     "output_type": "execute_result"
    }
   ],
   "source": [
    "zscore = 1.96\n",
    "ME = 0.01\n",
    "P = 0.5\n",
    "N = ((zscore**2) * .25/ME**2)\n",
    "N"
   ]
  },
  {
   "cell_type": "markdown",
   "metadata": {},
   "source": [
    "We need a sample size of 9604."
   ]
  },
  {
   "cell_type": "markdown",
   "metadata": {},
   "source": [
    "<div class = \"license\">\n",
    "This lab was adapted by Vural Aksakalli and Imran Ture from OpenIntro by Andrew Bray and Mine Çetinkaya-Rundel.\n",
    "</div>"
   ]
  },
  {
   "cell_type": "markdown",
   "metadata": {},
   "source": [
    "***\n",
    "www.featureranking.com"
   ]
  }
 ],
 "metadata": {
  "kernelspec": {
   "display_name": "Python 3",
   "language": "python",
   "name": "python3"
  },
  "language_info": {
   "codemirror_mode": {
    "name": "ipython",
    "version": 3
   },
   "file_extension": ".py",
   "mimetype": "text/x-python",
   "name": "python",
   "nbconvert_exporter": "python",
   "pygments_lexer": "ipython3",
   "version": "3.7.3"
  }
 },
 "nbformat": 4,
 "nbformat_minor": 2
}
